{
 "cells": [
  {
   "cell_type": "code",
   "execution_count": 14,
   "metadata": {},
   "outputs": [
    {
     "data": {
      "text/plain": [
       "['vectorizer.pkl']"
      ]
     },
     "execution_count": 14,
     "metadata": {},
     "output_type": "execute_result"
    }
   ],
   "source": [
    "import pandas as pd\n",
    "from sklearn.feature_extraction.text import CountVectorizer\n",
    "from sklearn.linear_model import LogisticRegression\n",
    "from sklearn.model_selection import train_test_split\n",
    "import joblib\n",
    "\n",
    "# Sample data\n",
    "data = {\n",
    "    'job_description': [\n",
    "        'Software developer with experience in Python, Java, and SQL.',\n",
    "        'Data scientist skilled in machine learning, Python, and data analysis.',\n",
    "        'Marketing specialist with expertise in SEO, SEM, and content creation.',\n",
    "        'Systems analyst with knowledge of SQL, project management, and software development.'\n",
    "    ],\n",
    "    'skills': [\n",
    "        'Python, Java, SQL',\n",
    "        'Machine Learning, Python, Data Analysis',\n",
    "        'SEO, SEM, Content Creation',\n",
    "        'SQL, Project Management, Software Development'\n",
    "    ]\n",
    "}\n",
    "\n",
    "# Create DataFrame\n",
    "df = pd.DataFrame(data)\n",
    "\n",
    "# Define features and labels\n",
    "X = df['job_description']\n",
    "y = df['skills']\n",
    "\n",
    "# Vectorize the job descriptions\n",
    "vectorizer = CountVectorizer()\n",
    "X_vectorized = vectorizer.fit_transform(X)\n",
    "\n",
    "# Split data into training and test sets\n",
    "X_train, X_test, y_train, y_test = train_test_split(X_vectorized, y, test_size=0.3, random_state=42)\n",
    "\n",
    "# Train the model\n",
    "model = LogisticRegression()\n",
    "model.fit(X_train, y_train)\n",
    "\n",
    "# Save the model and vectorizer\n",
    "joblib.dump(model, 'skill_predictor_model.pkl')\n",
    "joblib.dump(vectorizer, 'vectorizer.pkl')\n"
   ]
  }
 ],
 "metadata": {
  "kernelspec": {
   "display_name": "Python 3",
   "language": "python",
   "name": "python3"
  },
  "language_info": {
   "codemirror_mode": {
    "name": "ipython",
    "version": 3
   },
   "file_extension": ".py",
   "mimetype": "text/x-python",
   "name": "python",
   "nbconvert_exporter": "python",
   "pygments_lexer": "ipython3",
   "version": "3.8.0"
  }
 },
 "nbformat": 4,
 "nbformat_minor": 2
}
